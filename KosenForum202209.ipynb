{
  "nbformat": 4,
  "nbformat_minor": 0,
  "metadata": {
    "colab": {
      "name": "KosenForum202209",
      "provenance": [],
      "toc_visible": true,
      "authorship_tag": "ABX9TyN3ZLP3ibcrDGFt36+9A5Vu",
      "include_colab_link": true
    },
    "kernelspec": {
      "name": "python3",
      "display_name": "Python 3"
    },
    "language_info": {
      "name": "python"
    }
  },
  "cells": [
    {
      "cell_type": "markdown",
      "metadata": {
        "id": "view-in-github",
        "colab_type": "text"
      },
      "source": [
        "<a href=\"https://colab.research.google.com/github/kzhkAKT/kosenICT2022/blob/main/KosenForum202209.ipynb\" target=\"_parent\"><img src=\"https://colab.research.google.com/assets/colab-badge.svg\" alt=\"Open In Colab\"/></a>"
      ]
    },
    {
      "cell_type": "markdown",
      "source": [
        "# Colaboratory を用いた講義資料作成について"
      ],
      "metadata": {
        "id": "9nxjHdJJdMpy"
      }
    },
    {
      "cell_type": "markdown",
      "source": [
        "\n",
        "*   発表者: 上林一彦\n",
        "*   所属: 秋田高専 一般教科 自然科学系 物理\n",
        "\n",
        "\n"
      ],
      "metadata": {
        "id": "b07UHpWjdTpc"
      }
    },
    {
      "cell_type": "markdown",
      "source": [
        "## 概要"
      ],
      "metadata": {
        "id": "gyD53GF0dhzt"
      }
    },
    {
      "cell_type": "markdown",
      "source": [
        "COVID-19 の感染拡大直後から、発表者が担当する高専本科生の講義では、講義資料として [Jupyter notebook](https://jupyter.org/) 機能制限版である [Google Colaboratory](https://colab.research.google.com/?hl=ja) (Colab)を利用している。この Colab を利用することで、話題ごとにさまざまな教材[動画/対話型シミュレーション等]を一つの notebook にまとめ、学生に提供することが可能となった。作成した教材は、タブレットや携帯端末のブラウザで、受講者が閲覧または実行することができる。発表では、簡単な講義資料の作成を実演する予定である。"
      ],
      "metadata": {
        "id": "ZSt45ywLdrVn"
      }
    },
    {
      "cell_type": "markdown",
      "source": [
        "# 発表"
      ],
      "metadata": {
        "id": "jVPA6_G5mMj2"
      }
    },
    {
      "cell_type": "markdown",
      "source": [
        "\n",
        "1.  背景\n",
        "1.  実例紹介\n",
        "1.  実演\n",
        "  - 作成5分\n",
        "  - 完成\n",
        "1. 長所と短所\n",
        "1. 展望\n",
        "\n"
      ],
      "metadata": {
        "id": "e_bCYLAfd-2D"
      }
    },
    {
      "cell_type": "markdown",
      "source": [
        "物理系科目担当者として、教材作成の一助として経験を共有します。  \n",
        "Colaboratory の本当の強み、pytorch, cirq などの話は出てきません。"
      ],
      "metadata": {
        "id": "4CNtCT3C_vVm"
      }
    },
    {
      "cell_type": "markdown",
      "source": [
        "## 1. 背景"
      ],
      "metadata": {
        "id": "H5KXI0ufmR2Z"
      }
    },
    {
      "cell_type": "markdown",
      "source": [
        "### 学生の動向"
      ],
      "metadata": {
        "id": "9XGsmN5Q2oyR"
      }
    },
    {
      "cell_type": "markdown",
      "source": [
        "+ 高専本科低学年では、数式よりも動的な表現を先行させた方が注意を引く\n",
        "  - 実体験が伴わないため、言葉や数式だけで伝えることが困難"
      ],
      "metadata": {
        "id": "71DRnW400gWo"
      }
    },
    {
      "cell_type": "markdown",
      "source": [
        "### コンテンツの多様化"
      ],
      "metadata": {
        "id": "1Rjg1-wQ2sHT"
      }
    },
    {
      "cell_type": "markdown",
      "source": [
        "- https://www.geogebra.org/ one-line explanatoin:\n",
        "- https://www.desmos.com/calculator\n",
        "- https://phet.colorado.edu/\n",
        "- https://www.youtube.com/\n",
        "  - https://www.youtube.com/c/MITDepartmentofPhysics\n",
        "  - https://www.youtube.com/c/physicsdemos\n",
        "  - https://c3d.libretexts.org/CalcPlot3D\n",
        "    - https://bit.ly/3JQ5ZmD"
      ],
      "metadata": {
        "id": "uxYQMdWU3GI9"
      }
    },
    {
      "cell_type": "markdown",
      "source": [
        "### 現場に合わせた物語"
      ],
      "metadata": {
        "id": "_LMxROwU2xyF"
      }
    },
    {
      "cell_type": "markdown",
      "source": [
        "1. 利用している教科書や、学生の様子を見ながら、コンテンツを微調整\n",
        "2. 映像を強調し、英語の部分はあまり触れない\n",
        "3. 最新の情報も、教員のフィルターを通して、提供できる "
      ],
      "metadata": {
        "id": "DvhWHwdM25T1"
      }
    },
    {
      "cell_type": "markdown",
      "source": [
        "- 板書やホワイトボードも併用、写真を撮り Google Classroom で共有"
      ],
      "metadata": {
        "id": "2d1WumQz6r6p"
      }
    },
    {
      "cell_type": "code",
      "source": [
        "#@title SI定義改定について(計量標準総合センター/産総研)\n",
        "%%html\n",
        "<video controls=\"\" poster=\"https://unit.aist.go.jp/nmij/info/enjoy/SI/img/NMIJ_logo.jpg\" controlslist=\"nodownload\" oncontextmenu=\"return false;\" width=\"720\" height=\"540\">\n",
        "              <source src=\"https://unit.aist.go.jp/nmij/info/enjoy/SI/movie/OpenLabShort_20200520.mp4\" type=\"video/mp4\" >\n",
        "            </video>"
      ],
      "metadata": {
        "cellView": "form",
        "colab": {
          "base_uri": "https://localhost:8080/",
          "height": 561
        },
        "id": "AEsQsSCN5c1o",
        "outputId": "67e762fa-3004-4f4a-b543-df513bc4a36b"
      },
      "execution_count": 4,
      "outputs": [
        {
          "output_type": "display_data",
          "data": {
            "text/plain": [
              "<IPython.core.display.HTML object>"
            ],
            "text/html": [
              "<video controls=\"\" poster=\"https://unit.aist.go.jp/nmij/info/enjoy/SI/img/NMIJ_logo.jpg\" controlslist=\"nodownload\" oncontextmenu=\"return false;\" width=\"720\" height=\"540\">\n",
              "              <source src=\"https://unit.aist.go.jp/nmij/info/enjoy/SI/movie/OpenLabShort_20200520.mp4\" type=\"video/mp4\" >\n",
              "            </video>\n"
            ]
          },
          "metadata": {}
        }
      ]
    },
    {
      "cell_type": "markdown",
      "source": [
        "## 2. 実例紹介"
      ],
      "metadata": {
        "id": "ia7Td7QwfqbQ"
      }
    },
    {
      "cell_type": "markdown",
      "source": [
        "### 講義"
      ],
      "metadata": {
        "id": "9g51ONSA6--t"
      }
    },
    {
      "cell_type": "markdown",
      "source": [
        "Github を公開か？"
      ],
      "metadata": {
        "id": "cdpJI97y7DMx"
      }
    },
    {
      "cell_type": "markdown",
      "source": [
        "### 卒業研究"
      ],
      "metadata": {
        "id": "bLJWYQne7Ahr"
      }
    },
    {
      "cell_type": "markdown",
      "source": [
        "支障のない範囲で公開"
      ],
      "metadata": {
        "id": "QM3ju6Je7DyA"
      }
    },
    {
      "cell_type": "markdown",
      "source": [
        "## 3. 実演(作成5分)"
      ],
      "metadata": {
        "id": "FcflgxK-mElK"
      }
    },
    {
      "cell_type": "markdown",
      "source": [
        "このスペースを利用して\n",
        "\n",
        "- 波の干渉現象の基本事項確認\n",
        "\n",
        "を作成してみます。"
      ],
      "metadata": {
        "id": "0yv-8hPt-QwM"
      }
    },
    {
      "cell_type": "markdown",
      "source": [
        "## 3. 実演:完成"
      ],
      "metadata": {
        "id": "BcCoaBmkftGm"
      }
    },
    {
      "cell_type": "markdown",
      "source": [
        "初等物理の話題を利用して教材を作成する(予定)"
      ],
      "metadata": {
        "id": "vnujMWxwfxPd"
      }
    },
    {
      "cell_type": "markdown",
      "source": [
        "### 干渉の基本式"
      ],
      "metadata": {
        "id": "rN8EC7cixoEL"
      }
    },
    {
      "cell_type": "markdown",
      "source": [
        "\\begin{align*}\n",
        "\\begin{cases}\n",
        "\\left| {\\rm SP_1} - {\\rm SP_2} \\right| = m \\lambda\\\\ \n",
        "\\left| {\\rm SP_1} - {\\rm SP_2} \\right| = \\left( m + \\dfrac{1}{2}\\right) \\lambda\\\\\n",
        "\\end{cases}\\\\\n",
        "m= 0, 1, \\cdots, \n",
        "\\end{align*}"
      ],
      "metadata": {
        "id": "ROzEAei9yE9K"
      }
    },
    {
      "cell_type": "code",
      "source": [
        "#@title 干渉の基礎\n",
        "%%html\n",
        "<iframe src=\"https://phet.colorado.edu/sims/html/wave-interference/latest/wave-interference_ja.html\"\n",
        "        width=\"720\"\n",
        "        height=\"540\"\n",
        "        allowfullscreen>\n",
        "</iframe>"
      ],
      "metadata": {
        "cellView": "form",
        "id": "e7UNlVROlL27",
        "outputId": "46c5fb90-4daa-4c02-b749-bc7861a24283",
        "colab": {
          "base_uri": "https://localhost:8080/",
          "height": 565
        }
      },
      "execution_count": null,
      "outputs": [
        {
          "output_type": "display_data",
          "data": {
            "text/plain": [
              "<IPython.core.display.HTML object>"
            ],
            "text/html": [
              "<iframe src=\"https://phet.colorado.edu/sims/html/wave-interference/latest/wave-interference_ja.html\"\n",
              "        width=\"720\"\n",
              "        height=\"540\"\n",
              "        allowfullscreen>\n",
              "</iframe>\n"
            ]
          },
          "metadata": {}
        }
      ]
    },
    {
      "cell_type": "code",
      "source": [
        "#@title 音叉と水面\n",
        "%%html\n",
        "<iframe width=\"560\" height=\"315\" src=\"https://www.youtube-nocookie.com/embed/iRYWmo3Tuq4\" title=\"YouTube video player\" frameborder=\"0\" allow=\"accelerometer; autoplay; clipboard-write; encrypted-media; gyroscope; picture-in-picture\" allowfullscreen></iframe>"
      ],
      "metadata": {
        "cellView": "form",
        "id": "NrRs5Gfcl35_",
        "outputId": "a2dcc490-e8de-4101-8cd7-7f9cf59ca142",
        "colab": {
          "base_uri": "https://localhost:8080/",
          "height": 336
        }
      },
      "execution_count": null,
      "outputs": [
        {
          "output_type": "display_data",
          "data": {
            "text/plain": [
              "<IPython.core.display.HTML object>"
            ],
            "text/html": [
              "<iframe width=\"560\" height=\"315\" src=\"https://www.youtube-nocookie.com/embed/iRYWmo3Tuq4\" title=\"YouTube video player\" frameborder=\"0\" allow=\"accelerometer; autoplay; clipboard-write; encrypted-media; gyroscope; picture-in-picture\" allowfullscreen></iframe>\n"
            ]
          },
          "metadata": {}
        }
      ]
    },
    {
      "cell_type": "markdown",
      "source": [
        "## 4. 長所と短所"
      ],
      "metadata": {
        "id": "Ox8wi_bC9zYv"
      }
    },
    {
      "cell_type": "markdown",
      "source": [
        "### 長所"
      ],
      "metadata": {
        "id": "wq2LL5of-qDu"
      }
    },
    {
      "cell_type": "markdown",
      "source": [
        "- 拡張が容易\n",
        "  - Python はディフォルトで、 Julia は少し準備をすれば利用可能"
      ],
      "metadata": {
        "id": "oqNlaLzz-1zC"
      }
    },
    {
      "cell_type": "markdown",
      "source": [
        "### 短所"
      ],
      "metadata": {
        "id": "FQ-VhEqA-rkm"
      }
    },
    {
      "cell_type": "markdown",
      "source": [
        "- 動作が遅くなることがたまにある\n",
        "  - 講義中に計算や描画をしない限りは、安定動作(経験談)\n",
        "- 画面が簡単にスクロールしてしまう\n",
        "  - 目次をつけることで回避"
      ],
      "metadata": {
        "id": "TyXAjwfS-tGx"
      }
    },
    {
      "cell_type": "markdown",
      "source": [
        "## 5. 展望"
      ],
      "metadata": {
        "id": "v8B6L0kieWNo"
      }
    },
    {
      "cell_type": "markdown",
      "source": [
        "\n",
        "\n",
        "* 教員間の知識の共有\n",
        "  - Google Workspace(GWS) 導入をすると共有はかなり楽\n",
        "    - Microsoft Azure server でも共有は可能と思われるが、  \n",
        "    調査段階で利用を停止したので詳細不明\n",
        "  - 初期導入に手間が掛かるが、$\\LaTeX$ 等が使えれば、比較的導入は容易\n",
        "    - 作成の know & how は、この資料を出発点に、獲得可能\n",
        "  - github 等でブランチの派生が予測されるので、統括する人材が必要\n",
        "    - Google Colaboratory のみでも Version は管理されるが、  \n",
        "    公開に関しては GWS の影響を受ける\n",
        "* Azure を利用できれば、jupyter 経由でより高機能を導入可能\n",
        " - 費用, 機能がありすぎても使いきれない可能性あり\n",
        "\n"
      ],
      "metadata": {
        "id": "S5gfnb2geY0T"
      }
    },
    {
      "cell_type": "markdown",
      "source": [
        "# todo"
      ],
      "metadata": {
        "id": "J3Nvag5851mv"
      }
    },
    {
      "cell_type": "markdown",
      "source": [
        "- css for presentation?\n",
        "- https://colab.research.google.com/notebooks/basic_features_overview.ipynb\n",
        "- https://colab.research.google.com/notebooks/markdown_guide.ipynb\n",
        "- quizz: text insert "
      ],
      "metadata": {
        "id": "_pCAR-hf53xC"
      }
    }
  ]
}
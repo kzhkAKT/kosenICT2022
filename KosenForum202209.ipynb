{
  "nbformat": 4,
  "nbformat_minor": 0,
  "metadata": {
    "colab": {
      "name": "KosenForum202209",
      "provenance": [],
      "toc_visible": true,
      "authorship_tag": "ABX9TyODRMH9Ae6hA9UJ6eh1ASSy",
      "include_colab_link": true
    },
    "kernelspec": {
      "name": "python3",
      "display_name": "Python 3"
    },
    "language_info": {
      "name": "python"
    }
  },
  "cells": [
    {
      "cell_type": "markdown",
      "metadata": {
        "id": "view-in-github",
        "colab_type": "text"
      },
      "source": [
        "<a href=\"https://colab.research.google.com/github/kzhkAKT/kosenICT2022/blob/main/KosenForum202209.ipynb\" target=\"_parent\"><img src=\"https://colab.research.google.com/assets/colab-badge.svg\" alt=\"Open In Colab\"/></a>"
      ]
    },
    {
      "cell_type": "markdown",
      "source": [
        "# Colaboratory を用いた講義資料作成について"
      ],
      "metadata": {
        "id": "9nxjHdJJdMpy"
      }
    },
    {
      "cell_type": "markdown",
      "source": [
        "\n",
        "*   発表者: 上林一彦\n",
        "*   所属: 秋田高専 一般教科 自然科学系 物理\n",
        "\n",
        "\n"
      ],
      "metadata": {
        "id": "b07UHpWjdTpc"
      }
    },
    {
      "cell_type": "markdown",
      "source": [
        "## 概要"
      ],
      "metadata": {
        "id": "gyD53GF0dhzt"
      }
    },
    {
      "cell_type": "markdown",
      "source": [
        "COVID-19 の感染拡大直後から、発表者が担当する高専本科生の講義では、講義資料として [Jupyter notebook](https://jupyter.org/) 機能制限版である [Google Colaboratory](https://colab.research.google.com/?hl=ja) (Colab)を利用している。この Colab を利用することで、話題ごとにさまざまな教材[動画/対話型シミュレーション等]を一つの notebook にまとめ、学生に提供することが可能となった。作成した教材は、タブレットや携帯端末のブラウザで、受講者が閲覧または実行することができる。発表では、簡単な講義資料の作成を実演する予定である。"
      ],
      "metadata": {
        "id": "ZSt45ywLdrVn"
      }
    },
    {
      "cell_type": "markdown",
      "source": [
        "## お品書き"
      ],
      "metadata": {
        "id": "HU3kRo5Zd8nW"
      }
    },
    {
      "cell_type": "markdown",
      "source": [
        "\n",
        "1.  背景\n",
        "1.  実例紹介\n",
        "1.  実演\n",
        "1.  展望\n",
        "\n"
      ],
      "metadata": {
        "id": "e_bCYLAfd-2D"
      }
    },
    {
      "cell_type": "markdown",
      "source": [
        "## 2. 実例紹介"
      ],
      "metadata": {
        "id": "ia7Td7QwfqbQ"
      }
    },
    {
      "cell_type": "markdown",
      "source": [
        "\n",
        "\n",
        "*   講義\n",
        "*   卒業研究の日誌\n",
        "\n"
      ],
      "metadata": {
        "id": "qiGNhMLrhJDj"
      }
    },
    {
      "cell_type": "markdown",
      "source": [
        "## 3. 実演"
      ],
      "metadata": {
        "id": "BcCoaBmkftGm"
      }
    },
    {
      "cell_type": "markdown",
      "source": [
        "初等物理の話題を利用して教材を作成する(予定)"
      ],
      "metadata": {
        "id": "vnujMWxwfxPd"
      }
    },
    {
      "cell_type": "markdown",
      "source": [
        "### 4. 展望"
      ],
      "metadata": {
        "id": "v8B6L0kieWNo"
      }
    },
    {
      "cell_type": "markdown",
      "source": [
        "\n",
        "\n",
        "*   教員間の知識の共有\n",
        " - ブランチの派生が予測されるので、統括する人材が必要\n",
        "*  Azure を利用できれば、jupyter 経由でより高機能を導入可能\n",
        " - 費用, 機能がありすぎても使いきれない可能性あり\n",
        "\n"
      ],
      "metadata": {
        "id": "S5gfnb2geY0T"
      }
    }
  ]
}